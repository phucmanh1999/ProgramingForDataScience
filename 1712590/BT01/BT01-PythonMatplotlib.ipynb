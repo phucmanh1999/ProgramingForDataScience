{
 "cells": [
  {
   "cell_type": "markdown",
   "metadata": {},
   "source": [
    "# BT01: Python, Matplotlib\n",
    "\n",
    "Họ tên: Nguyễn Phúc Mạnh\n",
    "\n",
    "MSSV: 1712590"
   ]
  },
  {
   "cell_type": "markdown",
   "metadata": {},
   "source": [
    "---"
   ]
  },
  {
   "cell_type": "markdown",
   "metadata": {},
   "source": [
    "## Cách làm bài và nộp bài"
   ]
  },
  {
   "cell_type": "markdown",
   "metadata": {},
   "source": [
    "&#9889; Bạn lưu ý là mình sẽ dùng chương trình hỗ trợ chấm bài nên bạn cần phải tuân thủ chính xác qui định mà mình đặt ra, nếu không rõ thì hỏi, chứ không nên tự tiện làm theo ý của cá nhân.\n",
    "\n",
    "**Cách làm bài**\n",
    "\n",
    "Bạn sẽ làm trực tiếp trên file notebook này. Đầu tiên, bạn điền họ tên và MSSV vào phần đầu file ở bên trên. Trong file, bạn làm bài ở những chỗ có ghi là:\n",
    "```python\n",
    "# YOUR CODE HERE\n",
    "raise NotImplementedError()\n",
    "```\n",
    "hoặc đối với những phần code không bắt buộc thì là:\n",
    "```python\n",
    "# YOUR CODE HERE (OPTION)\n",
    "```\n",
    "hoặc đối với markdown cell thì là:\n",
    "```markdown\n",
    "YOUR ANSWER HERE\n",
    "```\n",
    "Tất nhiên, khi làm thì bạn xóa dòng `raise NotImplementedError()` đi.\n",
    "Đối những phần yêu cầu code thì thường ở ngay phía dưới sẽ có một (hoặc một số) cell chứa các bộ test để giúp bạn biết đã code đúng hay chưa; nếu chạy cell này không có lỗi gì thì có nghĩa là qua được các bộ test. Trong một số trường hợp, các bộ test có thể sẽ không đầy đủ; nghĩa là, nếu không qua được test thì là code sai, nhưng nếu qua được test thì chưa chắc đã đúng hoàn toàn.\n",
    "\n",
    "Trong khi làm bài, bạn có thể cho in ra màn hình, tạo thêm các cell để test. Nhưng khi nộp bài thì bạn xóa các cell mà bạn tự tạo, xóa hoặc comment các câu lệnh in ra màn hình. Bạn lưu ý <font color=red>không được tự tiện xóa các cell hay sửa code của Thầy</font> (trừ những chỗ được phép sửa như đã nói ở trên).\n",
    "\n",
    "Trong khi làm bài, thường xuyên `Ctrl + S` để lưu lại bài làm của bạn, tránh mất mát thông tin.\n",
    "\n",
    "\n",
    "*Nên nhớ mục tiêu chính ở đây là <font color=green>học, học một cách chân thật</font>. Bạn có thể thảo luận ý tưởng với bạn khác, nhưng <font color=green>code và bài làm phải là của bạn, dựa trên sự hiểu thật sự của bạn</font>. <font color=red>Nếu vi phạm thì sẽ bị 0 điểm cho toàn bộ môn học.</font>*\n",
    "\n",
    "**Cách nộp bài**\n",
    "\n",
    "Khi chấm bài, đầu tiên mình sẽ chọn `Kernel` - `Restart Kernel & Run All Cells` để restart và chạy tất cả các cell trong notebook của bạn; do đó, trước khi nộp bài, bạn nên chạy thử `Kernel` - `Restart Kernel & Run All Cells` để đảm bảo mọi chuyện diễn ra đúng như mong đợi.\n",
    "\n",
    "Sau đó, bạn tạo thư mục nộp bài theo cấu trúc sau:\n",
    "- Thư mục `MSSV` (vd, nếu bạn có MSSV là 1234567 thì bạn đặt tên thư mục là `1234567`)\n",
    "    - Thư mục `BT01`\n",
    "        - File `BT01-PythonMatplotlib.ipynb` (không cần nộp các file khác)\n",
    "\n",
    "Cuối cùng, bạn nén thư mục `MSSV` này lại và nộp ở link trên moodle. Đuôi của file nén phải là `.zip` (chứ không được `.rar` hay cái khác). <font color=red>Bạn lưu ý tuân thủ chính xác qui định nộp bài này.</font>"
   ]
  },
  {
   "cell_type": "markdown",
   "metadata": {},
   "source": [
    "---"
   ]
  },
  {
   "cell_type": "markdown",
   "metadata": {},
   "source": [
    "## Import"
   ]
  },
  {
   "cell_type": "code",
   "execution_count": 1,
   "metadata": {},
   "outputs": [],
   "source": [
    "%matplotlib inline\n",
    "import csv\n",
    "import re\n",
    "import matplotlib.pyplot as plt\n",
    "import copy\n",
    "# YOUR CODE HERE (OPTION)"
   ]
  },
  {
   "cell_type": "markdown",
   "metadata": {},
   "source": [
    "---"
   ]
  },
  {
   "cell_type": "markdown",
   "metadata": {},
   "source": [
    "## Download & khám phá dữ liệu (4đ)"
   ]
  },
  {
   "cell_type": "markdown",
   "metadata": {},
   "source": [
    "Dữ liệu được sử dụng trong bài tập này là dữ liệu khảo sát vào năm 2019 về Machine Learning và Data Science của Kaggle đối với những người dùng trên trang web này. Kaggle là một trang web về Data Science mà ở đó các công ty đăng dữ liệu cũng như bài toán của họ và tổ chức dưới dạng một cuộc thi để mời gọi các \"cao thủ\" Data Science vào giải quyết; thông thường sẽ có tiền thưởng cho những người tham gia mà có kết quả ở đầu bảng ;-). Khi cuộc thi đã qua deadline rồi thì bạn vẫn có thể tham gia để luyện tập. Những người tham gia thường cũng public file notebook của họ, và bạn có thể học hỏi được nhiều điều. Trong đồ án cuối kỳ của môn học, Kaggle là một nguồn tốt để bạn lấy được các dữ liệu thực tế.\n",
    "\n",
    "Để lấy dữ liệu cho bài tập này, việc đầu tiên bạn cần làm là đăng ký một tài khoản ở [Kaggle](https://www.kaggle.com/) (nếu bạn chưa có) và đăng nhập. Sau đó thì bạn vào [đây](https://www.kaggle.com/c/kaggle-survey-2019/data) để đọc mô tả dữ liệu và download dữ liệu. Có tất cả 4 file csv, trong bài này thì chỉ dùng 1 file là `multiple_choice_responses.csv`; bạn đặt file csv này trong cùng thư mục với file notebook này. Trước khi đi tiếp, bạn cần đọc kỹ phần mô tả dữ liệu trên Kaggle và đối chiếu với file `multiple_choice_responses.csv` (bạn có thể xem file này dưới dạng table bằng Excel hoặc Jupyter Lab) để đảm bảo là bạn đã hiểu cấu trúc của file `multiple_choice_responses.csv`.\n",
    "\n",
    "OK, sau khi bạn đã hiểu cấu trúc của file `multiple_choice_responses.csv`, công việc kế tiếp của bạn là viết code để đọc file csv này. Mục đích của phần này là để luyện tập đọc file và xử lý chuỗi nên yêu cầu là bạn phải đọc từng dòng và xử lý chuỗi bằng các phương thức của chuỗi và Regular Expression (mặc dù Python có thư viện `csv` là thư viện built-in để đọc file csv nhưng bạn sẽ không được dùng thư viện này, mà thư viện này sẽ được dùng để check phần cài đặt của bạn). Bạn sẽ lưu kết quả đọc file vào biến `rows`; `rows` là một list, trong đó mỗi phần tử là một dictionary ứng với một dòng; mỗi phần tử trong dictionary này có key là tên cột và value là giá trị tương ứng của cột. Như bạn có thể thấy trong file csv, 2 dòng đầu ứng với tên cột (dòng 1 ứng với số thứ tự câu hỏi được khảo sát và dòng 2 là chi tiết câu hỏi); ta thống nhất là dùng dòng 1 để làm tên cột cho ngắn gọn. Như vậy, list `row` sẽ gồm có số dòng của file trừ 2 phần tử (bằng 19717 trong file đang xét), và mỗi phần tử là một dictionary gồm số cột phần tử (bằng 246 trong file đang xét).\n",
    "\n",
    "Nói thêm về việc xử lý mỗi dòng trong file:\n",
    "- Các giá trị trên một dòng được cách nhau bởi dấu phẩy. Tuy nhiên, có những giá trị mà trong đó có dấu phẩy. Ví dụ, ở cột `Q6`, dòng 3, giá trị `1000-9,999 employees`. Nếu bạn mở xem file csv này dưới dạng text thô và search giá trị `1000-9,999 employees` thì bạn sẽ thấy giá trị này được bọc trong cặp nháy kép; nhờ đó mà các trình đọc file csv phân biệt được dấu phẩy để phân tách các giá trị và dấu phẩy nằm trong mỗi giá trị. Bạn lưu ý, với các giá trị mà được bọc trong cặp nháy kép thì bạn chỉ lấy phần giá trị bên trong thôi, không lấy cặp nháy kép.  \n",
    "- Trong file, cũng có các giá trị trống. Ví dụ, ở cột `Q6`, dòng 5.\n",
    "\n",
    "Như vậy, việc xử lý dòng có vẻ là không dễ ăn ;-), mình nghĩ là phải dùng đến Regular Expression. Đầu tiên, bạn nên test trước pattern viết bằng Regular Expression của bạn với một chuỗi đơn giản, ví dụ:\n",
    "    \n",
    "    line = 'abc,\"111,222\",,cde\\n'\n",
    "    # Nếu pattern của bạn đúng thì \n",
    "    # sẽ tách ra được 4 chuỗi con:\n",
    "    # 'abc', '111,222', '', 'cde'\n",
    "\n",
    "Trong bài tập này, code của bạn chỉ cần chạy được với file csv đang xét là OK, mình sẽ không test với các file csv khác. "
   ]
  },
  {
   "cell_type": "code",
   "execution_count": 50,
   "metadata": {
    "deletable": false,
    "nbgrader": {
     "cell_type": "code",
     "checksum": "10e0d143d6f6fb0f3a9053ef08d5f559",
     "grade": false,
     "grade_id": "cell-67142117f149b8b1",
     "locked": false,
     "schema_version": 3,
     "solution": true,
     "task": false
    }
   },
   "outputs": [],
   "source": [
    "rows = []\n",
    "# YOUR CODE HERE\n",
    "file = open('multiple_choice_responses.csv')\n",
    "keys = file.readline().rstrip().split(',')\n",
    "# print(len(keys))\n",
    "# print(keys)\n",
    "file.readline() #bỏ dòng thứ 2\n",
    "\n",
    "for line in file:\n",
    "    d = {}\n",
    "    #tách chuỗi không lấy dấu , ở trong 2 dấu \"\" bằng cách chỉ lấy dấu , mà phía sau nó có số chẵn dấu ngoặc kép\n",
    "    #em tham khảo reg https://stackoverflow.com/questions/18893390/\n",
    "    #splitting-on-comma-outside-quotes?fbclid=IwAR1bdfO5OhLj65h2CPGjVfQuNyiE0mi_uCYXo2gvohWUxGpN8KptM9k3Pvg\n",
    "    values = re.split(',(?=(?:[^\\\"]*\\\"[^\\\"]*\\\")*[^\\\"]*$)',line.rstrip()) \n",
    "    for i in range(len(values)):\n",
    "        values[i] = values[i].replace('\"','')\n",
    "        d[keys[i]]=values[i]\n",
    "    rows.append(d)"
   ]
  },
  {
   "cell_type": "code",
   "execution_count": 4,
   "metadata": {
    "deletable": false,
    "editable": false,
    "nbgrader": {
     "cell_type": "code",
     "checksum": "ff0d6868c2eea5a0c856ef23bc9c8a6a",
     "grade": true,
     "grade_id": "cell-def42bc88342ed24",
     "locked": true,
     "points": 4,
     "schema_version": 3,
     "solution": false,
     "task": false
    }
   },
   "outputs": [],
   "source": [
    "# TEST\n",
    "file = open('multiple_choice_responses.csv')\n",
    "csv_reader = csv.DictReader(file)\n",
    "next(csv_reader) # Skip 2nd row\n",
    "i = 0\n",
    "for correct_row in csv_reader:\n",
    "    assert rows[i] == correct_row\n",
    "    i += 1\n",
    "file.close()"
   ]
  },
  {
   "cell_type": "markdown",
   "metadata": {},
   "source": [
    "---"
   ]
  },
  {
   "cell_type": "markdown",
   "metadata": {},
   "source": [
    "## Đưa ra câu hỏi muốn trả lời "
   ]
  },
  {
   "cell_type": "markdown",
   "metadata": {},
   "source": [
    "Bây giờ, bạn đã hiểu hơn về dữ liệu. Và bạn có thể xem thử có câu hỏi nào hay có thể được trả lời bằng dữ liệu này không.\n",
    "\n",
    "Như bạn có thể thấy từ file dữ liệu, cột `Q5` là kết quả khảo sát những người tham gia về nghề nghiệp của họ. Các giá trị có thể có của nghề nghiệp: Software Engineer, Student, Data Scientist, ... Một câu hỏi mà bạn có thể quan tâm là: \n",
    "\n",
    "**Những người tham gia mà là Data Scientist thì có những đặc điểm gì? (ví dụ, phần lớn là già hay trẻ, nam hay nữ, hay sử dụng tool gì, ...)**\n",
    "\n",
    "Trong phần còn lại của bài tập này, bạn sẽ tìm câu trả lời cho câu hỏi này."
   ]
  },
  {
   "cell_type": "markdown",
   "metadata": {},
   "source": [
    "---"
   ]
  },
  {
   "cell_type": "markdown",
   "metadata": {},
   "source": [
    "## Tiền xử lý: lọc để có được các dòng cần lấy (1đ)"
   ]
  },
  {
   "cell_type": "markdown",
   "metadata": {},
   "source": [
    "Để trả lời cho câu hỏi ở trên, đầu tiên bạn sẽ tiền xử lý biến `rows` (list các dòng đã có được ở trên) để lọc ra các dòng ứng với những người có nghề nghiệp (cột `Q5`) là Data Scientist. Cụ thể là, bạn sẽ hoàn thành hàm `filter_rows` ở bên dưới. \n",
    "\n",
    "Input của hàm `filter_rows`:\n",
    "- `rows`: list các dòng, mỗi dòng là một dictionary.\n",
    "- `col_name`: chuỗi ứng với tên cột dùng để lọc. Ví dụ, `col_name='Q5'`.\n",
    "- `condition_func`: hàm cho biết điều kiện lọc, hàm này có input là một giá trị của cột `col_name` và trả về `True` nếu ta muốn lấy dòng ứng giá trị này và `False` nếu ngược lại. Ví dụ, `condition_func=is_ds` với `is_ds` được định nghĩa như sau:\n",
    "\n",
    "\n",
    "    def is_ds(value): \n",
    "        return value == 'Data Scientist'\n",
    "\n",
    "Hàm `filter_rows` sẽ trả về: list các dòng được lọc ra từ list `rows`.\n",
    "\n",
    "Ngoài ra, bạn cũng phải cài đặt hàm `filter_rows` sao cho dữ liệu trong kết quả trả về của hàm này là hoàn toàn độc lập với dữ liệu ở input `rows`. Nghĩa là: nếu sau đó ta chỉnh sửa gì trên dữ liệu của kết quả của hàm `filter_rows` thì dữ liệu ở `rows` vẫn không thay đổi. Gợi ý: có thể bạn sẽ muốn dùng [thư viện `copy`](https://docs.python.org/3/library/copy.html) (thư viện built-in)."
   ]
  },
  {
   "cell_type": "code",
   "execution_count": 5,
   "metadata": {
    "deletable": false,
    "nbgrader": {
     "cell_type": "code",
     "checksum": "71a0d944ee909d34f1772125d92aef18",
     "grade": false,
     "grade_id": "cell-aca161e68c8791ed",
     "locked": false,
     "schema_version": 3,
     "solution": true,
     "task": false
    }
   },
   "outputs": [],
   "source": [
    "def filter_rows(rows, col_name, condition_func):\n",
    "    # YOUR CODE HERE\n",
    "    res=[]\n",
    "    \n",
    "    for line in rows:\n",
    "        if condition_func(line[col_name]): res.append(copy.copy(line))\n",
    "    return res"
   ]
  },
  {
   "cell_type": "code",
   "execution_count": 6,
   "metadata": {
    "deletable": false,
    "editable": false,
    "nbgrader": {
     "cell_type": "code",
     "checksum": "c2ef2dac767cdf2cf64fae866f374371",
     "grade": true,
     "grade_id": "cell-68e19c344aa0dba6",
     "locked": true,
     "points": 0.5,
     "schema_version": 3,
     "solution": false,
     "task": false
    }
   },
   "outputs": [],
   "source": [
    "# TEST 1\n",
    "def is_ds(value):\n",
    "    return value == 'Data Scientist'\n",
    "ds_rows = filter_rows(rows, 'Q5', is_ds)\n",
    "assert len(ds_rows) == 4085"
   ]
  },
  {
   "cell_type": "code",
   "execution_count": 7,
   "metadata": {
    "deletable": false,
    "editable": false,
    "nbgrader": {
     "cell_type": "code",
     "checksum": "b5ad80f0d02ccfc7a46f7a9920b26d17",
     "grade": true,
     "grade_id": "cell-bbfdec277bd50e73",
     "locked": true,
     "points": 0.5,
     "schema_version": 3,
     "solution": false,
     "task": false
    }
   },
   "outputs": [],
   "source": [
    "# TEST 2 (test dữ liệu kết quả có độc lập với dữ liệu input)\n",
    "test_rows = [{'Q2': 'Male', 'Q5': 'Student'},\n",
    "             {'Q2': 'Female', 'Q5': 'Data Scientist'}]\n",
    "test_results = filter_rows(test_rows, 'Q5', is_ds)\n",
    "test_results[0]['Q2'] = 'Male'\n",
    "assert test_rows[1]['Q2'] == 'Female'"
   ]
  },
  {
   "cell_type": "markdown",
   "metadata": {},
   "source": [
    "---"
   ]
  },
  {
   "cell_type": "markdown",
   "metadata": {},
   "source": [
    "## Phân tích dữ liệu: tính và trực quan hóa phân bố các giá trị của từng biến (5đ)\n",
    "\n",
    "(Bên dưới có tất cả 5 mục con, mỗi mục 1đ)"
   ]
  },
  {
   "cell_type": "markdown",
   "metadata": {},
   "source": [
    "Đến đây, bạn đã có được list `ds_rows` chứa các dòng ứng với những người tham gia khảo sát có nghề nghiệp là Data Scientist. Để trả lời cho câu hỏi đặt ra về đặc điểm của nhóm người này, bạn có thể tính và trực quan hóa phân bố của từng biến (một biến ứng với một câu hỏi khảo sát, ở đây ta chỉ làm với một vài biến thôi)."
   ]
  },
  {
   "cell_type": "markdown",
   "metadata": {},
   "source": [
    "### Giới tính (cột `Q2`)\n",
    "Công việc của bạn là hoàn thành hàm `compute_dist` ở bên dưới. Hàm này sẽ tính phân bố các giá trị của một cột dạng \"categorical\". Ngoài ra, bạn cũng cần hoàn thành hàm `normalize_dist`; hàm này có input là một dictionary, trong đó mỗi phần tử có key là giá trị và value là số lượng của giá trị đó; output của hàm này là dictionary giống như input, trong đó phần key thì giữ nguyên, còn phần value thì được chuẩn hóa về dạng tỉ lệ (tổng các tỉ lệ bằng 1). Hàm `normalize_dist` là hàm hỗ trợ cho hàm `compute_dist`.\n",
    "\n",
    "Input của hàm `compute_dist`:\n",
    "- `rows`: list các dòng của dữ liệu, mỗi dòng là một dictionary.\n",
    "- `col_name`: tên cột cần tính phân bố các giá trị.\n",
    "- `norm`: nếu `norm` bằng `True` thì sẽ chuẩn hóa các số lượng về tỉ lệ (tổng các tỉ lệ sẽ bằng 1).\n",
    "\n",
    "Output của hàm `compute_dist`: một dictionary, trong đó mỗi phần tử có key là giá trị của cột `col_name` và value là số lượng của giá trị này (nếu biến `norm` bằng `False`) hoặc tỉ lệ (nếu biến `norm` bằng `True`)."
   ]
  },
  {
   "cell_type": "code",
   "execution_count": 8,
   "metadata": {
    "deletable": false,
    "nbgrader": {
     "cell_type": "code",
     "checksum": "0466cb283bb2bfb7b928a3b41a83af2e",
     "grade": false,
     "grade_id": "cell-ec951d6893730175",
     "locked": false,
     "schema_version": 3,
     "solution": true,
     "task": false
    }
   },
   "outputs": [],
   "source": [
    "def normalize_dist(dist):\n",
    "    # YOUR CODE HERE\n",
    "    res = copy.copy(dist)\n",
    "    n = sum(dist.values())\n",
    "    for key in res.keys():\n",
    "        res[key]=res[key]/n\n",
    "    return res\n",
    "        \n",
    "        \n",
    "def compute_dist(rows, col_name, norm=True):\n",
    "    # YOUR CODE HERE\n",
    "    col = []\n",
    "    for line in rows:\n",
    "        col.append(line[col_name])\n",
    "    keys = sorted(list(set(col)))\n",
    "    res = dict()\n",
    "    for key in keys:\n",
    "        res[key]=0\n",
    "    for line in rows:\n",
    "        for key in keys:\n",
    "            if line[col_name]==key:\n",
    "                res[key]+=1\n",
    "    if(norm):\n",
    "        return normalize_dist(res)\n",
    "    return res\n",
    "    "
   ]
  },
  {
   "cell_type": "code",
   "execution_count": 9,
   "metadata": {
    "deletable": false,
    "editable": false,
    "nbgrader": {
     "cell_type": "code",
     "checksum": "6d8ca022dbfac4a87e7d8df085a27ee4",
     "grade": true,
     "grade_id": "cell-9d8f3ac564c836e5",
     "locked": true,
     "points": 0.25,
     "schema_version": 3,
     "solution": false,
     "task": false
    }
   },
   "outputs": [],
   "source": [
    "# TEST 1\n",
    "gender_dist = compute_dist(ds_rows, 'Q2', False)\n",
    "correct_gender_dist = {'Male': 3431, \n",
    "                       'Female': 606,\n",
    "                       'Prefer not to say': 42,\n",
    "                       'Prefer to self-describe': 6}\n",
    "assert gender_dist == correct_gender_dist"
   ]
  },
  {
   "cell_type": "code",
   "execution_count": 10,
   "metadata": {
    "deletable": false,
    "editable": false,
    "nbgrader": {
     "cell_type": "code",
     "checksum": "a84ea6fec08ee891bf7720a5d7cffd2e",
     "grade": true,
     "grade_id": "cell-2578cfc6c05e2d4d",
     "locked": true,
     "points": 0.25,
     "schema_version": 3,
     "solution": false,
     "task": false
    }
   },
   "outputs": [],
   "source": [
    "# TEST 2\n",
    "gender_dist = compute_dist(ds_rows, 'Q2', True)\n",
    "correct_gender_dist = {'Male': 3431 / 4085, \n",
    "                       'Female': 606 / 4085,\n",
    "                       'Prefer not to say': 42 / 4085,\n",
    "                       'Prefer to self-describe': 6 / 4085}\n",
    "assert gender_dist == correct_gender_dist"
   ]
  },
  {
   "cell_type": "markdown",
   "metadata": {},
   "source": [
    "Công việc tiếp theo của bạn là vẽ bar chart từ `gender_dist` ở TEST 2. Yêu cầu vẽ:\n",
    "- Dùng hàm `plt.barh` (có `h`)\n",
    "- Đặt nhãn cho trục x là `Proportion`\n",
    "- Chỉnh miền giá trị cho trục x là từ 0 đến 1"
   ]
  },
  {
   "cell_type": "code",
   "execution_count": 11,
   "metadata": {
    "deletable": false,
    "nbgrader": {
     "cell_type": "code",
     "checksum": "b3e300ed7c532572d0c2e6d2f85790d6",
     "grade": true,
     "grade_id": "cell-4d33fbd54d7f5780",
     "locked": false,
     "points": 0.5,
     "schema_version": 3,
     "solution": true,
     "task": false
    }
   },
   "outputs": [
    {
     "data": {
      "text/plain": [
       "Text(0.5, 1.0, 'Proportion of gender in Data Science')"
      ]
     },
     "execution_count": 11,
     "metadata": {},
     "output_type": "execute_result"
    },
    {
     "data": {
      "image/png": "[encoded data removed]",
      "text/plain": [
       "<Figure size 432x288 with 1 Axes>"
      ]
     },
     "metadata": {
      "needs_background": "light"
     },
     "output_type": "display_data"
    }
   ],
   "source": [
    "# YOUR CODE HERE\n",
    "def get_key(item):\n",
    "    return item[1]\n",
    "#sap xep theo ti le\n",
    "sorted_gender_proportion = sorted(gender_dist.items(), key=get_key)\n",
    "\n",
    "gender = []; counts = []\n",
    "for item in sorted_gender_proportion:\n",
    "    gender.append(item[0])\n",
    "    counts.append(item[1])\n",
    "\n",
    "\n",
    "plt.barh(gender,counts)\n",
    "plt.xlabel('Proportion')\n",
    "plt.xlim(0,1)\n",
    "plt.title('Proportion of gender in Data Science')\n"
   ]
  },
  {
   "cell_type": "markdown",
   "metadata": {},
   "source": [
    "Từ hình vẽ kết quả, có thể thấy tình hình hiện giờ rất là ... "
   ]
  },
  {
   "cell_type": "markdown",
   "metadata": {},
   "source": [
    "Những người làm Data Science đa phần là nam"
   ]
  },
  {
   "cell_type": "markdown",
   "metadata": {},
   "source": [
    "### Quốc gia (cột `Q3`) "
   ]
  },
  {
   "cell_type": "markdown",
   "metadata": {},
   "source": [
    "Với hàm `compute_dist` đã viết ở trên, bạn có thể nhanh chóng tính phân bố các giá trị của một cột dạng \"categorical\" bất kỳ và sau đó có thể vẽ bar chart. Tuy nhiên, với cột có nhiều giá trị như cột `Q3` (chứa thông tin về quốc gia của người tham gia khảo sát) thì có thể sẽ hơi khó nhìn; để dễ nhìn hơn, ta có thể sắp xếp dictionary kết quả của hàm `compute_dist` theo value (từ \"value\" mà mình dùng ở đây là value trong value và key của dictionary).\n",
    "\n",
    "Công việc của bạn là hoàn thành hàm `sort_dict_by_value` ở bên dưới (`dict` là dictionary, còn `dist` là distribution). Input của hàm này là một dictionary và output cũng là một dictionary như input nhưng các phần tử được sort **giảm dần** theo value. Bạn lưu ý, với các phiên bản Python cũ thì các phần tử trong dictionary là không có thứ tự; từ phiên bản Python 3.7 trở đi thì là có thứ tự. Do đó, bạn cần đảm bảo phiên bản Python mà bạn đang sử dụng là từ 3.7 trở lên. "
   ]
  },
  {
   "cell_type": "code",
   "execution_count": 12,
   "metadata": {},
   "outputs": [
    {
     "name": "stdout",
     "output_type": "stream",
     "text": [
      "Python 3.7.6\n"
     ]
    }
   ],
   "source": [
    "!python --version"
   ]
  },
  {
   "cell_type": "code",
   "execution_count": 13,
   "metadata": {
    "deletable": false,
    "nbgrader": {
     "cell_type": "code",
     "checksum": "4808354b1e3421e2f61b772a2f157b5c",
     "grade": false,
     "grade_id": "cell-b1b51090eadbc6e6",
     "locked": false,
     "schema_version": 3,
     "solution": true,
     "task": false
    }
   },
   "outputs": [],
   "source": [
    "def sort_dict_by_value(d):\n",
    "    # YOUR CODE HERE\n",
    "    def get_key(item):\n",
    "        return item[1]\n",
    "    sorted_list = sorted(d.items(), key=get_key,reverse= True)\n",
    "    res = dict()\n",
    "    for item in sorted_list:\n",
    "        res[item[0]]=item[1]\n",
    "    return res"
   ]
  },
  {
   "cell_type": "code",
   "execution_count": 14,
   "metadata": {
    "deletable": false,
    "editable": false,
    "nbgrader": {
     "cell_type": "code",
     "checksum": "383032dae09d6a17aac48d680532ad5a",
     "grade": true,
     "grade_id": "cell-caab2523ebeab962",
     "locked": true,
     "points": 0.5,
     "schema_version": 3,
     "solution": false,
     "task": false
    }
   },
   "outputs": [],
   "source": [
    "# TEST\n",
    "country_dist = compute_dist(ds_rows, 'Q3')\n",
    "country_dist = sort_dict_by_value(country_dist)\n",
    "countries = list(country_dist.keys())\n",
    "assert countries[0] == 'United States of America'\n",
    "assert countries[-1] == 'Algeria'"
   ]
  },
  {
   "cell_type": "markdown",
   "metadata": {},
   "source": [
    "Tiếp theo, bạn sẽ vẽ bar chart từ `country_dist` đã được sort ở trên. Ở đây, mình sẽ không áp đặt yêu cầu vẽ của mình mà sẽ để bạn tự xem xét và thực hiện các điều chỉnh sao cho bạn thấy hình vẽ là dễ nhìn và dễ hiểu đối với người xem."
   ]
  },
  {
   "cell_type": "code",
   "execution_count": 26,
   "metadata": {
    "deletable": false,
    "nbgrader": {
     "cell_type": "code",
     "checksum": "449327188e5a46b8464776af4b09ac72",
     "grade": true,
     "grade_id": "cell-0194e7fc60202a30",
     "locked": false,
     "points": 0.5,
     "schema_version": 3,
     "solution": true,
     "task": false
    }
   },
   "outputs": [
    {
     "data": {
      "text/plain": [
       "Text(0.5, 1.0, 'Proportion of country in Data Science')"
      ]
     },
     "execution_count": 26,
     "metadata": {},
     "output_type": "execute_result"
    },
    {
     "data": {
      "image/png": "[encoded data removed]",
      "text/plain": [
       "<Figure size 1080x1440 with 1 Axes>"
      ]
     },
     "metadata": {
      "needs_background": "light"
     },
     "output_type": "display_data"
    }
   ],
   "source": [
    "# YOUR CODE HERE\n",
    "plt.figure(figsize=(15,20))\n",
    "plt.barh(list(country_dist.keys()),list(country_dist.values()))\n",
    "plt.xlabel('Proportion')\n",
    "plt.title('Proportion of country in Data Science')"
   ]
  },
  {
   "cell_type": "markdown",
   "metadata": {},
   "source": [
    "Việt Nam ở đâu nhỉ ... "
   ]
  },
  {
   "cell_type": "markdown",
   "metadata": {},
   "source": [
    "### Tuổi (cột `Q1`) "
   ]
  },
  {
   "cell_type": "markdown",
   "metadata": {},
   "source": [
    "Biến \"categorical\" thì có thể không có thứ tự hoặc có thứ tự. Với trường hợp có thứ tự thì khi vẽ bar chart bạn nên vẽ các bar theo thứ tự này (chứ không thể sort như cột `Q3` ở trên). Cột `Q1` (chứa thông tin về tuổi) là một ví dụ cho trường hợp biến \"categorical\" có thứ tự. Tuổi đúng ra là biến dạng \"numeric\", nhưng ở đây được chuyển thành biến \"categorical\" có thứ tự: \"18-21\", \"22-24\", ..., \"70+\". Kaggle làm vậy có lẽ là vì bar chart của biến \"categorical\" thì dễ nhìn và dễ hiểu hơn histogram của biến \"numeric\" (nhất là khi các bin của histogram có độ rộng không bằng nhau).\n",
    "\n",
    "Công việc tiếp theo của bạn là hoàn thành hàm `sort_dict_by_key` ở bên dưới. Hàm này tương tự với hàm `sort_dict_by_value` mà bạn đã viết, chỉ có điều bây giờ bạn sort các phần tử của dictionary theo key chứ không phải là theo value, và sort key theo thứ tự **tăng dần**. Với cột `Q1` về tuổi mà ta đang xét thì các key của dictionary kết quả của hàm `compute_dist` là các chuỗi: \"18-21\", \"22-24\", ..., \"70+\", và khi bạn sort các key này thì sẽ ra được thứ tự đúng (để ý, không phải biến \"categorical\" có thứ tự nào cũng sẽ ra đúng thứ tự khi sort key)."
   ]
  },
  {
   "cell_type": "code",
   "execution_count": 27,
   "metadata": {
    "deletable": false,
    "nbgrader": {
     "cell_type": "code",
     "checksum": "da61408bf2ad5483fbbe7b9eaf92567a",
     "grade": false,
     "grade_id": "cell-8e07217df037bd54",
     "locked": false,
     "schema_version": 3,
     "solution": true,
     "task": false
    }
   },
   "outputs": [],
   "source": [
    "def sort_dict_by_key(d):\n",
    "    # YOUR CODE HERE\n",
    "    def get_key(item):\n",
    "        return item[0]\n",
    "    sorted_list = sorted(d.items(),key=get_key)\n",
    "    res = dict()\n",
    "    for item in sorted_list:\n",
    "        res[item[0]]=item[1]\n",
    "    return res"
   ]
  },
  {
   "cell_type": "code",
   "execution_count": 28,
   "metadata": {
    "deletable": false,
    "editable": false,
    "nbgrader": {
     "cell_type": "code",
     "checksum": "5afee9a2745631e4c34c6468ed9aba0d",
     "grade": true,
     "grade_id": "cell-a5fa443835b91166",
     "locked": true,
     "points": 0.5,
     "schema_version": 3,
     "solution": false,
     "task": false
    }
   },
   "outputs": [],
   "source": [
    "# TEST\n",
    "age_dist = compute_dist(ds_rows, 'Q1')\n",
    "age_dist = sort_dict_by_key(age_dist)\n",
    "ages = list(age_dist.keys())\n",
    "assert ages[0] == '18-21'\n",
    "assert ages[-1] == '70+'"
   ]
  },
  {
   "cell_type": "markdown",
   "metadata": {},
   "source": [
    "Công việc tiếp theo của bạn là vẽ bar chart từ `age_dist` đã tính ở trên. Yêu cầu vẽ:\n",
    "- Dùng hàm `plt.barh` (có `h`)\n",
    "- Đặt nhãn cho trục x là `Proportion`\n",
    "- Chỉnh miền giá trị cho trục x là từ 0 đến 1"
   ]
  },
  {
   "cell_type": "code",
   "execution_count": 29,
   "metadata": {
    "deletable": false,
    "nbgrader": {
     "cell_type": "code",
     "checksum": "84813af4a6e5fa16c89a39b0f1a3feac",
     "grade": true,
     "grade_id": "cell-2eedc2dd3ab774f9",
     "locked": false,
     "points": 0.5,
     "schema_version": 3,
     "solution": true,
     "task": false
    }
   },
   "outputs": [
    {
     "data": {
      "text/plain": [
       "Text(0.5, 0, 'Proportion')"
      ]
     },
     "execution_count": 29,
     "metadata": {},
     "output_type": "execute_result"
    },
    {
     "data": {
      "image/png": "[encoded data removed]",
      "text/plain": [
       "<Figure size 432x288 with 1 Axes>"
      ]
     },
     "metadata": {
      "needs_background": "light"
     },
     "output_type": "display_data"
    }
   ],
   "source": [
    "plt.barh(list(age_dist.keys()),list(age_dist.values()))\n",
    "plt.title('Proportion of age in Data Science')\n",
    "plt.xlabel('Proportion')"
   ]
  },
  {
   "cell_type": "markdown",
   "metadata": {},
   "source": [
    "Phân bố về tuổi có gì bất ngờ không ...  "
   ]
  },
  {
   "cell_type": "markdown",
   "metadata": {},
   "source": [
    "- Độ tuổi đa phần là `25-29`, tức là 2-3 năm sau khi tốt nghiệp. \n",
    "- Độ tuổi 55-70+ cũng có một số người, tức là ngành này có tuổi nghề rất cao"
   ]
  },
  {
   "cell_type": "markdown",
   "metadata": {},
   "source": [
    "### IDE (từ cột `Q16_Part_1` đến cột `Q16_Part_12`)"
   ]
  },
  {
   "cell_type": "markdown",
   "metadata": {},
   "source": [
    "Nãy giờ ta chỉ mới làm với trường hợp đơn giản là câu hỏi khảo sát dạng \"single choice\" và một câu hỏi (ứng với một biến) thì ứng với một cột. Với câu hỏi dạng \"multiple choice\" thì người tham gia có thể chọn nhiều hơn một lựa chọn. Ví dụ với câu hỏi về IDE thường sử dụng thì người tham gia có thể chọn nhiều hơn một IDE. Trong trường hợp câu hỏi \"multiple choice\" thì mỗi lựa chọn sẽ được tách ra thành một cột; bạn xem lại file csv để đảm bảo là bạn đã hiểu vụ này: chẳng hạn câu hỏi về IDE là câu hỏi 16 và được tách ra thành 12 cột từ `Q16_Part_1` đến `Q16_Part_12` (còn cột `Q16_OTHER_TEXT` là cột mà người dùng sẽ tự do nhập text để nói rõ hơn khi chọn lựa chọn \"OTHER\", trong bài tập này ta không quan tâm đến cột này).\n",
    "\n",
    "Công việc tiếp theo của bạn là hoàn thành hàm `compute_dist_multicol` ở bên dưới để tính phân bố của biến \"categorical\" mà ứng với câu hỏi dạng \"multiple choice\" và nằm ở nhiều cột. Khi đếm các giá trị thì bạn phải duyệt qua tất cả các cột liên quan. Nếu cần thì bạn có thể dùng lại các hàm mà bạn đã định nghĩa như hàm `compute_dist`.\n",
    "\n",
    "Input của hàm `compute_dist_multicol`:\n",
    "- `rows`: list các dòng của dữ liệu, mỗi dòng là một dictionary.\n",
    "- `question_num`: số thứ tự của câu hỏi, ví dụ: `question_num='Q16'`.\n",
    "- `norm`: nếu `norm` bằng `True` thì sẽ chuẩn hóa các số lượng về tỉ lệ (tổng các tỉ lệ sẽ bằng 1).\n",
    "\n",
    "Output của hàm `compute_dist_multicol`: một dictionary, trong đó mỗi phần tử có key là giá trị của các cột ứng với `question_num` và value là số lượng của giá trị này (nếu biến `norm` bằng `False`) hoặc tỉ lệ (nếu biến `norm` bằng `True`). "
   ]
  },
  {
   "cell_type": "code",
   "execution_count": 42,
   "metadata": {
    "deletable": false,
    "nbgrader": {
     "cell_type": "code",
     "checksum": "7f32d7c148c384b2daa4590397910174",
     "grade": false,
     "grade_id": "cell-0aab0d6053edfc1d",
     "locked": false,
     "schema_version": 3,
     "solution": true,
     "task": false
    }
   },
   "outputs": [],
   "source": [
    "def compute_dist_multicol(rows, question_num, norm=True):\n",
    "    question_cols = []\n",
    "    for key in rows[0]:\n",
    "        if key.find(question_num) != -1: question_cols.append(key)\n",
    "    for col in question_cols:\n",
    "        if col.find('OTHER_TEXT') != -1: del question_cols[question_cols.index(col)]\n",
    "\n",
    "    res = {}\n",
    "    keys = set()\n",
    "    for col in question_cols:\n",
    "        dist_col = compute_dist(rows,col,False)        \n",
    "        keys = keys.union(set(dist_col.keys()))\n",
    "    keys=list(keys)\n",
    "\n",
    "    \n",
    "    for key in keys:\n",
    "        res[key] = 0\n",
    "    for col in question_cols:\n",
    "        dist_col = compute_dist(rows,col,False)\n",
    "        for key in dist_col.keys():\n",
    "            res[key] += dist_col[key]\n",
    "    del res['']\n",
    "    if(norm):\n",
    "        return normalize_dist(res)\n",
    "    return res"
   ]
  },
  {
   "cell_type": "code",
   "execution_count": 31,
   "metadata": {
    "deletable": false,
    "editable": false,
    "nbgrader": {
     "cell_type": "code",
     "checksum": "2ce62b0cb061d9963de3ed6f10f9ad72",
     "grade": true,
     "grade_id": "cell-a500df8636b06b6d",
     "locked": true,
     "points": 1,
     "schema_version": 3,
     "solution": false,
     "task": false
    }
   },
   "outputs": [],
   "source": [
    "# TEST\n",
    "ide_dist = compute_dist_multicol(ds_rows, 'Q16', True)\n",
    "ide_dist = sort_dict_by_value(ide_dist)\n",
    "correct_ide_dist = {'Jupyter (JupyterLab, Jupyter Notebooks, etc) ': 2791 / 9561,\n",
    "                    ' RStudio ': 1268 / 9561,\n",
    "                    ' PyCharm ': 1148 / 9561,\n",
    "                    ' Visual Studio / Visual Studio Code ': 964 / 9561,\n",
    "                    '  Notepad++  ': 747 / 9561,\n",
    "                    '  Spyder  ': 704 / 9561,\n",
    "                    '  Sublime Text  ': 701 / 9561,\n",
    "                    '  Vim / Emacs  ': 467 / 9561,\n",
    "                    ' Atom ': 364 / 9561,\n",
    "                    ' MATLAB ': 252 / 9561,\n",
    "                    'Other': 137 / 9561,\n",
    "                    'None': 18 / 9561} \n",
    "assert ide_dist == correct_ide_dist"
   ]
  },
  {
   "cell_type": "code",
   "execution_count": 32,
   "metadata": {},
   "outputs": [
    {
     "data": {
      "text/plain": [
       "{'Jupyter (JupyterLab, Jupyter Notebooks, etc) ': 0.2919150716452254,\n",
       " ' RStudio ': 0.132622110657881,\n",
       " ' PyCharm ': 0.12007112226754524,\n",
       " ' Visual Studio / Visual Studio Code ': 0.10082627340236378,\n",
       " '  Notepad++  ': 0.07812990272983998,\n",
       " '  Spyder  ': 0.073632465223303,\n",
       " '  Sublime Text  ': 0.0733186905135446,\n",
       " '  Vim / Emacs  ': 0.04884426315238992,\n",
       " ' Atom ': 0.03807133145068507,\n",
       " ' MATLAB ': 0.026357075619705052,\n",
       " 'Other': 0.014329045078966636,\n",
       " 'None': 0.0018826482585503608}"
      ]
     },
     "execution_count": 32,
     "metadata": {},
     "output_type": "execute_result"
    }
   ],
   "source": [
    "ide_dist"
   ]
  },
  {
   "cell_type": "markdown",
   "metadata": {},
   "source": [
    "Đầu tiên, như bạn có thể thấy, tên của một số IDE hơi khó nhìn vì có khoảng trắng ở đầu và cuối. Ta có thể quay lại bước tiền xử lý và xử lý vụ này nhưng ở trong bài tập này thì cứ tạm để lại vụ này.\n",
    "\n",
    "Lựa chọn IDE trong môn học có chuẩn không ;-)"
   ]
  },
  {
   "cell_type": "markdown",
   "metadata": {},
   "source": [
    "Jupyter áp đảo so với các IDE khác trong ngành Data Science, được phần lớn mọi người sử dụng "
   ]
  },
  {
   "cell_type": "markdown",
   "metadata": {},
   "source": [
    "### Biến của bạn "
   ]
  },
  {
   "cell_type": "markdown",
   "metadata": {},
   "source": [
    "Với các hàm đã định nghĩa ở trên, bạn có thể thử tính và trực quan hóa phân bố của các biến khác. Sau đó, bạn chọn ra một biến mà bạn thấy kết quả là thú vị để trình bày. Ngoài code thì bạn cũng phải đưa ra nhận xét của bạn về kết quả: kết quả này thú vị ở chỗ nào?"
   ]
  },
  {
   "cell_type": "code",
   "execution_count": 44,
   "metadata": {
    "deletable": false,
    "nbgrader": {
     "cell_type": "code",
     "checksum": "cd28a7180c12e2c7780ec4830271ad8b",
     "grade": true,
     "grade_id": "cell-aaeac9c158e863b9",
     "locked": false,
     "points": 0.5,
     "schema_version": 3,
     "solution": true,
     "task": false
    }
   },
   "outputs": [
    {
     "data": {
      "text/plain": [
       "{'Coursera': 0.23254620123203285,\n",
       " 'University Courses (resulting in a university degree)': 0.11765913757700205,\n",
       " 'Udemy': 0.1137577002053388,\n",
       " 'DataCamp': 0.1106776180698152,\n",
       " 'Kaggle Courses (i.e. Kaggle Learn)': 0.10934291581108829,\n",
       " 'Udacity': 0.08326488706365504,\n",
       " 'edX': 0.0822381930184805,\n",
       " 'Fast.ai': 0.05051334702258727,\n",
       " 'LinkedIn Learning': 0.030698151950718684,\n",
       " 'Other': 0.03059548254620123,\n",
       " 'None': 0.02135523613963039,\n",
       " 'DataQuest': 0.01735112936344969}"
      ]
     },
     "execution_count": 44,
     "metadata": {},
     "output_type": "execute_result"
    }
   ],
   "source": [
    "dscourses_dist = compute_dist_multicol(ds_rows, 'Q13',True)\n",
    "dscourses_dist = sort_dict_by_value(ide_dist)\n",
    "dscourses_dist"
   ]
  },
  {
   "cell_type": "code",
   "execution_count": 47,
   "metadata": {},
   "outputs": [
    {
     "data": {
      "text/plain": [
       "Text(0.5, 1.0, 'Data Science Courses')"
      ]
     },
     "execution_count": 47,
     "metadata": {},
     "output_type": "execute_result"
    },
    {
     "data": {
      "image/png": "[encoded data removed]",
      "text/plain": [
       "<Figure size 432x288 with 1 Axes>"
      ]
     },
     "metadata": {
      "needs_background": "light"
     },
     "output_type": "display_data"
    }
   ],
   "source": [
    "plt.barh(list(dscourses_dist.keys()), list(dscourses_dist.values()))\n",
    "plt.xlabel('Proportion')\n",
    "plt.title('Data Science Courses')"
   ]
  },
  {
   "cell_type": "markdown",
   "metadata": {
    "deletable": false,
    "nbgrader": {
     "cell_type": "markdown",
     "checksum": "2701bcce195907f3e6b322c19cb5d44b",
     "grade": true,
     "grade_id": "cell-24d3d65ca3a6c540",
     "locked": false,
     "points": 0.5,
     "schema_version": 3,
     "solution": true,
     "task": false
    }
   },
   "source": [
    "- Đa phần những người làm trong ngành Data Science học khoá học ở `Coursera`, chủ yếu là học online, học ở trường đại học chỉ đứng thứ 2.   \n",
    "- Số người học online ở các trang web `DataCamp`, `Udemy`, `Kaggle` cũng xấp xỉ học tại trường đại học"
   ]
  }
 ],
 "metadata": {
  "kernelspec": {
   "display_name": "Python 3",
   "language": "python",
   "name": "python3"
  },
  "language_info": {
   "codemirror_mode": {
    "name": "ipython",
    "version": 3
   },
   "file_extension": ".py",
   "mimetype": "text/x-python",
   "name": "python",
   "nbconvert_exporter": "python",
   "pygments_lexer": "ipython3",
   "version": "3.7.6"
  },
  "toc": {
   "base_numbering": 1,
   "nav_menu": {},
   "number_sections": true,
   "sideBar": true,
   "skip_h1_title": true,
   "title_cell": "Table of Contents",
   "title_sidebar": "Contents",
   "toc_cell": false,
   "toc_position": {
    "height": "252px",
    "left": "157px",
    "top": "32.222px",
    "width": "174.85px"
   },
   "toc_section_display": true,
   "toc_window_display": true
  }
 },
 "nbformat": 4,
 "nbformat_minor": 4
}
